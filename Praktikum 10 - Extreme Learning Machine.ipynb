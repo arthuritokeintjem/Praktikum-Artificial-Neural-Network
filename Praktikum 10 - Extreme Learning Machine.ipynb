{
  "nbformat": 4,
  "nbformat_minor": 0,
  "metadata": {
    "colab": {
      "provenance": []
    },
    "kernelspec": {
      "name": "python3",
      "display_name": "Python 3"
    }
  },
  "cells": [
    {
      "cell_type": "markdown",
      "metadata": {
        "id": "cBbC4vlK7Hyb"
      },
      "source": [
        "# Bab 9 Extreme Learning Machine"
      ]
    },
    {
      "cell_type": "markdown",
      "metadata": {
        "id": "_WjSkbk57Hlf"
      },
      "source": [
        "## Praktikum"
      ]
    },
    {
      "cell_type": "markdown",
      "metadata": {
        "id": "RduxLPzY7HaP"
      },
      "source": [
        "### a) Fungsi *Training* ELM\n",
        "\n",
        "Tulis kode ke dalam *cell* di bawah ini:"
      ]
    },
    {
      "cell_type": "code",
      "metadata": {
        "id": "g6M5D3hy6_YT"
      },
      "source": [
        "import time\n",
        "import numpy as np\n",
        "\n",
        "def elm_fit(X, target, h, W=None):\n",
        "  start_time = time.time()\n",
        "\n",
        "  if W is None:\n",
        "    W = np.random.uniform(-.1, .1, (h, len(X[0])))\n",
        "\n",
        "  Hinit = X @ W.T\n",
        "  H = 1 / (1 + np.exp(-Hinit))\n",
        "  Ht = H.T\n",
        "  Hp = np.linalg.inv(Ht @ H) @ Ht\n",
        "  beta = Hp @ target\n",
        "  y = H @ beta\n",
        "  mape = sum(abs(y - target) / target) * 100 / len(target)\n",
        "\n",
        "  execution = time.time() - start_time\n",
        "  print(\"Waktu eksekusi: %s detik\" % execution)\n",
        "\n",
        "  return W, beta, mape"
      ],
      "execution_count": null,
      "outputs": []
    },
    {
      "cell_type": "markdown",
      "metadata": {
        "id": "RPmJcJpY7XpN"
      },
      "source": [
        "### b) Fungsi *Testing* ELM\n",
        "\n",
        "Tulis kode ke dalam *cell* di bawah ini:"
      ]
    },
    {
      "cell_type": "code",
      "metadata": {
        "id": "38sj5oIK7YAj"
      },
      "source": [
        "def elm_predict(X, W, b, round_output=False):\n",
        "  Hinit = X @ W.T\n",
        "  H = 1 / (1 + np.exp(-Hinit))\n",
        "  y = H @ b\n",
        "\n",
        "  if round_output:\n",
        "    y = [int(round(x)) for x in y]\n",
        "\n",
        "  return y"
      ],
      "execution_count": null,
      "outputs": []
    },
    {
      "cell_type": "markdown",
      "metadata": {
        "id": "INz910K1VLRD"
      },
      "source": [
        "### c) Klasifikasi *Dataset* Iris\n",
        "\n",
        "![Iris Dataset](https://www.spataru.at/images/blog/iris-dataset-svm/iris_types.jpg)\n",
        "\n",
        "Tulis kode ke dalam *cell* di bawah ini:"
      ]
    },
    {
      "cell_type": "code",
      "metadata": {
        "id": "SilFnskvVLlr",
        "colab": {
          "base_uri": "https://localhost:8080/"
        },
        "outputId": "45525bc4-246f-4ff6-9a4a-b09511405404"
      },
      "source": [
        "from sklearn import datasets\n",
        "from sklearn.model_selection import train_test_split\n",
        "from sklearn.preprocessing import minmax_scale\n",
        "from sklearn.metrics import accuracy_score\n",
        "\n",
        "iris = datasets.load_iris()\n",
        "X = minmax_scale(iris.data)\n",
        "Y = iris.target\n",
        "Y += 1\n",
        "\n",
        "X_train, X_test, y_train, y_test = train_test_split(X, Y, test_size=.3)\n",
        "W, b, mape = elm_fit(X_train, y_train, 3)\n",
        "\n",
        "print('MAPE:', mape)\n",
        "\n",
        "output = elm_predict(X_test, W, b, round_output=True)\n",
        "accuracy = accuracy_score(output, y_test)\n",
        "\n",
        "print('Output:', output)\n",
        "print('True :', y_test)\n",
        "print('Accuracy:', accuracy)"
      ],
      "execution_count": null,
      "outputs": [
        {
          "output_type": "stream",
          "name": "stdout",
          "text": [
            "Waktu eksekusi: 0.00036787986755371094 detik\n",
            "MAPE: 9.625621883226\n",
            "Output: [1, 3, 3, 1, 2, 3, 3, 3, 1, 1, 3, 2, 2, 3, 2, 2, 2, 2, 1, 1, 1, 3, 1, 3, 3, 1, 3, 2, 3, 3, 3, 2, 2, 2, 1, 3, 3, 2, 1, 3, 2, 1, 3, 3, 2]\n",
            "True : [1 3 3 1 2 3 3 3 1 1 3 2 3 3 2 3 2 2 1 1 1 3 1 3 2 1 3 2 3 3 3 2 2 2 1 3 3\n",
            " 2 1 3 2 1 3 3 2]\n",
            "Accuracy: 0.9333333333333333\n"
          ]
        }
      ]
    },
    {
      "cell_type": "markdown",
      "source": [
        "# Analisis"
      ],
      "metadata": {
        "id": "mhSUIyy5SkJz"
      }
    },
    {
      "cell_type": "markdown",
      "source": [
        "### d) Fungsi *Training* Backpropagation"
      ],
      "metadata": {
        "id": "92kPn8MUSpsK"
      }
    },
    {
      "cell_type": "code",
      "source": [
        "def bp_fit(X, target, layer_conf, max_epoch, max_error=.1, learn_rate=.1, print_per_epoch=100):\n",
        "    np.random.seed(1)\n",
        "    nin = [np.empty(i) for i in layer_conf]\n",
        "    n = [np.empty(j + 1) if i < len(layer_conf) - 1 else np.empty(j) for i, j in enumerate(layer_conf)]\n",
        "    w = [np.random.rand(layer_conf[i] + 1, layer_conf[i + 1]) for i in range(len(layer_conf) - 1)]\n",
        "    dw = [np.empty((layer_conf[i] + 1, layer_conf[i + 1])) for i in range(len(layer_conf) - 1)]\n",
        "    d = [np.empty(s) for s in layer_conf[1:]]\n",
        "    din = [np.empty(s) for s in layer_conf[1:-1]]\n",
        "    epoch = 0\n",
        "    mse = 1\n",
        "\n",
        "    for i in range(0, len(n)-1):\n",
        "        n[i][-1] = 1\n",
        "\n",
        "    while (max_epoch == -1 or epoch < max_epoch) and mse > max_error:\n",
        "        epoch += 1\n",
        "        mse = 0\n",
        "\n",
        "        for r in range(len(X)):\n",
        "            n[0][:-1] = X[r]\n",
        "\n",
        "            for L in range(1, len(layer_conf)):\n",
        "                nin[L] = np.dot(n[L-1], w[L-1])\n",
        "                n[L][:len(nin[L])] = sig(nin[L])\n",
        "\n",
        "            e = target[r] - n[-1]\n",
        "            mse += sum(e ** 2)\n",
        "            d[-1] = e * sigd(nin[-1])\n",
        "            dw[-1] = learn_rate * d[-1] * n[-2].reshape((-1, 1))\n",
        "\n",
        "            for L in range(len(layer_conf) - 1, 1, -1):\n",
        "                din[L-2] = np.dot(d[L-1], np.transpose(w[L-1][:-1]))\n",
        "                d[L-2] = din[L-2] * np.array(sigd(nin[L-1]))\n",
        "                dw[L-2] = (learn_rate * d[L-2]) * n[L-2].reshape((-1, 1))\n",
        "\n",
        "            # Update weights\n",
        "            for i in range(len(w)):\n",
        "                w[i] += dw[i]\n",
        "\n",
        "        mse /= len(X)\n",
        "\n",
        "        if print_per_epoch > -1 and epoch % print_per_epoch == 0:\n",
        "            print(f'Epoch {epoch}, MSE: {mse}')\n",
        "\n",
        "    return w, epoch, mse"
      ],
      "metadata": {
        "id": "rsPP3kPeTHsK"
      },
      "execution_count": null,
      "outputs": []
    },
    {
      "cell_type": "markdown",
      "source": [
        "### e) Fungsi *Testing* Backpropagation"
      ],
      "metadata": {
        "id": "OLXH4q0UTOLp"
      }
    },
    {
      "cell_type": "code",
      "source": [
        "def bp_predict(X, w):\n",
        "  n = [np.empty(len(i)) for i in w]\n",
        "  nin = [np.empty(len(i[0])) for i in w]\n",
        "  predict = []\n",
        "\n",
        "  n.append(np.empty(len(w[-1][0])))\n",
        "\n",
        "  for x in X:\n",
        "    n[0][:-1] = x\n",
        "\n",
        "    for L in range(0, len(w)):\n",
        "      nin[L] = np.dot(n[L], w[L])\n",
        "      n[L + 1][:len(nin[L])] = sig(nin[L])\n",
        "\n",
        "    predict.append(n[-1].copy())\n",
        "\n",
        "  return predict"
      ],
      "metadata": {
        "id": "2-ShDcN2TTqW"
      },
      "execution_count": null,
      "outputs": []
    },
    {
      "cell_type": "markdown",
      "source": [
        "### f) Klasifikasi *Dataset* Iris"
      ],
      "metadata": {
        "id": "ONT3VljvTVpO"
      }
    },
    {
      "cell_type": "code",
      "source": [
        "# Fungsi sigmoid dan turunannya\n",
        "def sig(x):\n",
        "    return 1 / (1 + np.exp(-x))\n",
        "\n",
        "def sigd(x):\n",
        "    return sig(x) * (1 - sig(x))\n",
        "\n",
        "# Fungsi one-hot encoding dan decoding\n",
        "def onehot_enc(target):\n",
        "    return np.eye(len(np.unique(target)))[target]\n",
        "\n",
        "def onehot_dec(encoded):\n",
        "    return np.argmax(encoded, axis=1)\n",
        "\n",
        "from sklearn import datasets\n",
        "from sklearn.model_selection import train_test_split\n",
        "from sklearn.preprocessing import minmax_scale\n",
        "from sklearn.metrics import accuracy_score\n",
        "\n",
        "iris = datasets.load_iris()\n",
        "X = minmax_scale(iris.data)\n",
        "Y = onehot_enc(iris.target)\n",
        "\n",
        "X_train, X_test, y_train, y_test = train_test_split(X, Y, test_size=0.3,random_state=1)\n",
        "w, ep, mse = bp_fit(X_train, y_train, layer_conf=(4, 3, 3), learn_rate=0.1, max_epoch=100, max_error=0.5, print_per_epoch=25)\n",
        "\n",
        "print(f'Epochs: {ep}, MSE: {mse}')\n",
        "\n",
        "predict = bp_predict(X_test, w)\n",
        "predict = onehot_dec(predict)\n",
        "y_test = onehot_dec(y_test)\n",
        "accuracy = accuracy_score(predict, y_test)\n",
        "\n",
        "print('Output:', predict)\n",
        "print('True :', y_test)\n",
        "print('Accuracy:', accuracy)"
      ],
      "metadata": {
        "colab": {
          "base_uri": "https://localhost:8080/"
        },
        "id": "sg1ShBFLTcfr",
        "outputId": "1222ff92-3fc0-4f59-d9aa-578556809950"
      },
      "execution_count": null,
      "outputs": [
        {
          "output_type": "stream",
          "name": "stdout",
          "text": [
            "Epochs: 23, MSE: 0.4858416685844551\n",
            "Output: [0 2 2 0 2 2 2 0 0 2 2 0 2 2 2 0 2 2 0 0 2 2 2 0 2 2 0 0 2 2 2 2 2 2 2 0 2\n",
            " 0 2 2 2 0 2 2 2]\n",
            "True : [0 1 1 0 2 1 2 0 0 2 1 0 2 1 1 0 1 1 0 0 1 1 1 0 2 1 0 0 1 2 1 2 1 2 2 0 1\n",
            " 0 1 2 2 0 2 2 1]\n",
            "Accuracy: 0.6\n"
          ]
        }
      ]
    }
  ]
}