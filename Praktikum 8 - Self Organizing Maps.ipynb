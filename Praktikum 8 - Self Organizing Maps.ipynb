{
  "nbformat": 4,
  "nbformat_minor": 0,
  "metadata": {
    "colab": {
      "provenance": []
    },
    "kernelspec": {
      "name": "python3",
      "display_name": "Python 3"
    },
    "language_info": {
      "name": "python"
    }
  },
  "cells": [
    {
      "cell_type": "markdown",
      "metadata": {
        "id": "8sBj-jBGbLEn"
      },
      "source": [
        "# Self-Organizing Maps"
      ]
    },
    {
      "cell_type": "markdown",
      "metadata": {
        "id": "pnT6xw0qbT0C"
      },
      "source": [
        "## Praktikum"
      ]
    },
    {
      "cell_type": "markdown",
      "metadata": {
        "id": "tC5FDai2begm"
      },
      "source": [
        "### a) Fungsi *self-organizing maps*\n",
        "Tulis kode ke dalam *cell* di bawah ini:"
      ]
    },
    {
      "cell_type": "code",
      "metadata": {
        "id": "s8U5y5ESbzN8"
      },
      "source": [
        "import numpy as np\n",
        "\n",
        "def som(X, lrate, b, max_epoch, n_cluster):\n",
        "  centroids = np.random.uniform(size=(n_cluster, len(X[0])))\n",
        "  epoch = 0\n",
        "  labels = []\n",
        "\n",
        "  while epoch < max_epoch:\n",
        "    for x in X:\n",
        "      d = [sum((w - x) ** 2) for w in centroids]\n",
        "      min = np.argmin(d)\n",
        "      centroids[min] += lrate * (x - centroids[min])\n",
        "\n",
        "    lrate *= b\n",
        "    epoch += 1\n",
        "\n",
        "  for x in X:\n",
        "    d = [sum((w - x) ** 2) for w in centroids]\n",
        "    min = np.argmin(d)\n",
        "\n",
        "    labels.append(min)\n",
        "  return centroids, labels\n",
        "\n",
        "def draw(X, target, centroids):\n",
        "  colors = 'rgbcmyk'\n",
        "\n",
        "  for x, label in zip(X, target):\n",
        "    plt.plot(x[0], x[1], colors[label] + '.')\n",
        "\n",
        "  plt.plot(centroids[:, 0], centroids[:, 1], 'kx')"
      ],
      "execution_count": null,
      "outputs": []
    },
    {
      "cell_type": "markdown",
      "metadata": {
        "id": "xDauUXg8bz-Q"
      },
      "source": [
        "### b) Klasterisasi\n",
        "Tulis kode ke dalam *cell* di bawah ini:"
      ]
    },
    {
      "cell_type": "code",
      "metadata": {
        "id": "6khcAIFGb8Jr",
        "colab": {
          "base_uri": "https://localhost:8080/",
          "height": 447
        },
        "outputId": "c9410ed8-2aad-4ee0-f836-5e6f08d3c5d3"
      },
      "source": [
        "from sklearn.datasets import make_blobs\n",
        "from sklearn.metrics import silhouette_score\n",
        "import matplotlib.pyplot as plt\n",
        "\n",
        "X, target = make_blobs(n_samples=30, n_features=2, centers=3, random_state=3)\n",
        "centroids, labels = som(X, lrate=.05, b=.5, max_epoch=3, n_cluster=3)\n",
        "silhouette = silhouette_score(X, labels)\n",
        "\n",
        "print('Silhouette score:', silhouette)\n",
        "draw(X, target, centroids)"
      ],
      "execution_count": null,
      "outputs": [
        {
          "output_type": "stream",
          "name": "stdout",
          "text": [
            "Silhouette score: 0.4238939491388568\n"
          ]
        },
        {
          "output_type": "display_data",
          "data": {
            "text/plain": [
              "<Figure size 640x480 with 1 Axes>"
            ],
            "image/png": "[encoded data removed]"
          },
          "metadata": {}
        }
      ]
    }
  ]
}