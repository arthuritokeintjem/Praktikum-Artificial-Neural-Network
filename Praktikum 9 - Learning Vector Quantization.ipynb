{
  "nbformat": 4,
  "nbformat_minor": 0,
  "metadata": {
    "colab": {
      "provenance": []
    },
    "kernelspec": {
      "name": "python3",
      "display_name": "Python 3"
    }
  },
  "cells": [
    {
      "cell_type": "markdown",
      "metadata": {
        "id": "FKmHk-FbKDWe"
      },
      "source": [
        "# Bab 7 Learning Vector Quantization"
      ]
    },
    {
      "cell_type": "markdown",
      "metadata": {
        "id": "ewAbtN39KDGN"
      },
      "source": [
        "## Praktikum"
      ]
    },
    {
      "cell_type": "markdown",
      "metadata": {
        "id": "B-d5r_PjKGb2"
      },
      "source": [
        "### a) Fungsi *Training* LVQ\n",
        "\n",
        "Tulis kode ke dalam *cell* di bawah ini:"
      ]
    },
    {
      "cell_type": "code",
      "metadata": {
        "id": "YPq3_74LJ8lA"
      },
      "source": [
        "import numpy as np\n",
        "\n",
        "def lvq_fit(train, target, lrate, b, max_epoch):\n",
        "    # Dapatkan label unik dan indeks data untuk setiap kelas\n",
        "    label, train_idx = np.unique(target, return_index=True)\n",
        "\n",
        "    # Inisialisasi bobot awal dengan data pada indeks `train_idx`\n",
        "    weight = train[train_idx].astype(np.float64)\n",
        "\n",
        "    # Hapus data yang digunakan untuk inisialisasi bobot\n",
        "    train = np.delete(train, train_idx, axis=0)\n",
        "    target = np.delete(target, train_idx)\n",
        "\n",
        "    epoch = 0\n",
        "    while epoch < max_epoch:\n",
        "        for i, x in enumerate(train):\n",
        "            # Hitung jarak Euclidean antara data dan bobot\n",
        "            distance = [sum((w - x) ** 2) for w in weight]\n",
        "            min_idx = np.argmin(distance)\n",
        "\n",
        "            # Update bobot\n",
        "            sign = 1 if target[i] == label[min_idx] else -1\n",
        "            weight[min_idx] += sign * lrate * (x - weight[min_idx])\n",
        "\n",
        "        # Update learning rate\n",
        "        lrate *= b\n",
        "        epoch += 1\n",
        "\n",
        "    return weight, label"
      ],
      "execution_count": null,
      "outputs": []
    },
    {
      "cell_type": "markdown",
      "metadata": {
        "id": "0i3Wu52SKVlI"
      },
      "source": [
        "### b) Fungsi *Testing* LVQ\n",
        "\n",
        "Tulis kode ke dalam *cell* di bawah ini:"
      ]
    },
    {
      "cell_type": "code",
      "metadata": {
        "id": "ogz8RQ0JKZkn"
      },
      "source": [
        "def lvq_predict(X, model):\n",
        "  center, label = model\n",
        "  Y = []\n",
        "\n",
        "  for x in X:\n",
        "    d = [sum((c - x) ** 2) for c in center]\n",
        "    Y.append(label[np.argmin(d)])\n",
        "\n",
        "  return Y"
      ],
      "execution_count": null,
      "outputs": []
    },
    {
      "cell_type": "markdown",
      "metadata": {
        "id": "bgf87iLclSRy"
      },
      "source": [
        "### c) Fungsi Hitung Akurasi"
      ]
    },
    {
      "cell_type": "code",
      "metadata": {
        "id": "Et-YE6WclSqQ"
      },
      "source": [
        "def calc_accuracy(a, b):\n",
        "  s = [1 if a[i] == b[i] else 0 for i in range(len(a))]\n",
        "\n",
        "  return sum(s) / len(a)"
      ],
      "execution_count": null,
      "outputs": []
    },
    {
      "cell_type": "markdown",
      "metadata": {
        "id": "aazmHIl6KeFu"
      },
      "source": [
        "### d) Percobaan LVQ\n",
        "\n",
        "Tulis kode ke dalam *cell* di bawah ini:"
      ]
    },
    {
      "cell_type": "code",
      "metadata": {
        "id": "vcbWhRy7Kqiy",
        "colab": {
          "base_uri": "https://localhost:8080/",
          "height": 447
        },
        "outputId": "e269eb11-c7ef-4a63-9d4f-8c3e68a0dd73"
      },
      "source": [
        "from random import uniform\n",
        "import matplotlib.pyplot as plt\n",
        "from sklearn.model_selection import train_test_split\n",
        "from sklearn.datasets import make_blobs, make_classification\n",
        "\n",
        "X, y = make_classification(n_samples=31, n_features=2,\n",
        "n_redundant=0, n_informative=2, n_classes=3, n_clusters_per_class=1)\n",
        "X_train, X_test, y_train, y_test = train_test_split(X, y, test_size=0.2)\n",
        "\n",
        "model = lvq_fit(X_train, y_train, lrate=.5, b=.8, max_epoch=50)\n",
        "output = lvq_predict(X_test, model)\n",
        "accuracy = calc_accuracy(output, y_test)\n",
        "colors = 'rgbcmyk'\n",
        "\n",
        "print('Accuracy:', accuracy)\n",
        "\n",
        "for x, label in zip(X_train, y_train):\n",
        "  plt.plot(x[0], x[1], colors[label] + '.')\n",
        "for center, label in zip(model[0], model[1]):\n",
        "  plt.plot(center[0], center[1], colors[label] + 'o')\n",
        "for x, label in zip(X_test, output):\n",
        "  plt.plot(x[0], x[1], colors[label] + 'x')"
      ],
      "execution_count": null,
      "outputs": [
        {
          "output_type": "stream",
          "name": "stdout",
          "text": [
            "Accuracy: 0.8571428571428571\n"
          ]
        },
        {
          "output_type": "display_data",
          "data": {
            "text/plain": [
              "<Figure size 640x480 with 1 Axes>"
            ],
            "image/png": "[encoded data removed]"
          },
          "metadata": {}
        }
      ]
    }
  ]
}